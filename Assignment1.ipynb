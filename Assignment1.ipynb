{
  "nbformat": 4,
  "nbformat_minor": 0,
  "metadata": {
    "colab": {
      "provenance": []
    },
    "kernelspec": {
      "name": "python3",
      "display_name": "Python 3"
    },
    "language_info": {
      "name": "python"
    }
  },
  "cells": [
    {
      "cell_type": "markdown",
      "source": [
        "#Python Basic\n",
        "\n",
        "1. What is Python, and why is it popular?\n",
        "   - Python is high-level intrepreted programming language known for it's simplicity and readbility.\n",
        "  There are many factor for which python is popular:-\n",
        "  - Easy to learn & read:- Python's syntax looks like plain english, making it beginner- friendly.\n",
        "  - Versatile:- works on almost every field web data,AI, automation e.t.c\n",
        "  - Huge community support:- millions of developers , tons of tutorials and libraries.\n",
        "  - Rich library and framework:- data science-> NumPy, Pandas, Matplotlib\n",
        "  AI/ML-> Pytorch\n",
        "  WEb-> Django , Flask\n",
        "  - cross- plateform:- runs on windows, macOs, Linux.\n",
        "\n",
        "  2. What is an interpreter in Python?\n",
        "     - In python, an interpreter is a program that execute python code line by line, directly translating it into machine-readable instructions instead if compiling the whole program first.\n",
        "\n",
        "  3. What are pre-defined keywords in Python?\n",
        "     - Predefined keywords in Python are reserved words that have special meaning in tha language and can not be used as identifiers(like variable names.) EX:- if, else, while, def, class.\n",
        "\n",
        "  4. Can keywords be used as variable names?\n",
        "     - No, keywords cannot be used as variables name in python because they are reserved words with special meaning in language.\n",
        "\n",
        "   5. What is mutability in Python?\n",
        "      - Mutability in Python refers to whether an object's value can be changed after it is created.\n",
        "      Mutable Object: can be modified ( list, dict, set).\n",
        "\n",
        "   6. Why are lists mutable, but tuples are immutable?\n",
        "  \n",
        "  - lists are mutable because their elements can be changed, added, or removed after creation, while tuples are immutable because once created, their elements can not be modified.\n",
        "\n",
        "  7. What is the difference between “==” and “is” operators in Python?\n",
        "   - \"==\" checks if two objects have the same value, while \"is\" operator checks if they refer to the same memory location.\n",
        "\n",
        "\n",
        "   8. What are logical operators in Python?   \n",
        "      - Logical operator in Python are used to combine conditional statements. They are: and, or , not operator.\n",
        "\n",
        "   9. What is type casting in Python?\n",
        "\n",
        "      - Typecasting in Python is the process of converting one data type into another, such as converting a string to an integer or a float to an intreger.\n",
        "\n",
        "      EX:- x=\"10\"\n",
        "           y= int(x)\n",
        "\n",
        "\n",
        "   10. What is the difference between implicit and explicit type casting?\n",
        "\n",
        "   - Implicit typecasting( type conversion):- done automatically by Python when a similar datatype is converted to larger one to avoid data loss.\n",
        "   \n",
        "   - Explicit Typecasting( type casting):- done manually by the programmer using function like int(), float(), str(), etc.\n",
        "\n",
        "   11. What is the purpose of conditional statements in Python?\n",
        "\n",
        "   -  The purpose of Conditional statement in python is to execute certain blocks of code only when specific conditions are true, allowing decision- making in a program.\n",
        "\n",
        "  12. How does the elif statement work?\n",
        "\n",
        "      - The elif statement in Python lets you check multiple conditions; it runs only if previous if condition was false and its own condition is true.\n",
        "\n",
        "  13. What is the difference between for and while loops?\n",
        "     \n",
        "      - for loop in python used when you want to iterate over a sequence ( like a list, string, or range) for a fixed number of times, while a while loop is used when you want to repeat a block of code as long as condition is true.\n",
        "\n",
        "   14. Describe a scenario where a while loop is more suitable than a for loop?\n",
        "\n",
        "       - A while loop is more suitable when the number of iterations is not known in advance and depends on condition.\n",
        "     \n",
        "\n",
        "     \n",
        "   \n",
        "\n",
        "\n",
        "   \n",
        "\n",
        "\n",
        "\n",
        "\n",
        "\n",
        "\n"
      ],
      "metadata": {
        "id": "_8l9ESD5zmgF"
      }
    },
    {
      "cell_type": "markdown",
      "source": [
        "#Practical questions\n",
        "\n",
        " 1. Write a Python program to print \"Hello, World!\"\n"
      ],
      "metadata": {
        "id": "ejJDym7EAX4t"
      }
    },
    {
      "cell_type": "code",
      "execution_count": 1,
      "metadata": {
        "id": "9KO4Ls4-wT42",
        "colab": {
          "base_uri": "https://localhost:8080/"
        },
        "outputId": "90e5cf16-13cd-415d-d8d9-1db16811162d"
      },
      "outputs": [
        {
          "output_type": "stream",
          "name": "stdout",
          "text": [
            "hello world !\n"
          ]
        }
      ],
      "source": [
        "print(\"hello world !\")"
      ]
    },
    {
      "cell_type": "markdown",
      "source": [
        "2. Write a Python program that displays your name and age\n"
      ],
      "metadata": {
        "id": "iMXBTWbQA3DL"
      }
    },
    {
      "cell_type": "code",
      "source": [
        "name= \"Tanya\"\n",
        "age= 24\n",
        "print(\"my name is:\", name)\n",
        "print(\"my age is: \", age)"
      ],
      "metadata": {
        "colab": {
          "base_uri": "https://localhost:8080/"
        },
        "id": "5Ziwsee1A6ME",
        "outputId": "cbf819fd-4e32-42b3-ab8e-2c1c5791fa88"
      },
      "execution_count": 4,
      "outputs": [
        {
          "output_type": "stream",
          "name": "stdout",
          "text": [
            "my name is: Tanya\n",
            "my age is:  24\n"
          ]
        }
      ]
    },
    {
      "cell_type": "markdown",
      "source": [
        "3. Write code to print all the pre-defined keywords in Python using the keyword library\n"
      ],
      "metadata": {
        "id": "Pu5jRS-WBX-n"
      }
    },
    {
      "cell_type": "code",
      "source": [
        "import keyword\n",
        "keyword_list= keyword.kwlist\n",
        "print(keyword_list)"
      ],
      "metadata": {
        "colab": {
          "base_uri": "https://localhost:8080/"
        },
        "id": "A1netsTmBdKT",
        "outputId": "c94d4dde-2207-49d3-a3ca-085fcf652183"
      },
      "execution_count": 5,
      "outputs": [
        {
          "output_type": "stream",
          "name": "stdout",
          "text": [
            "['False', 'None', 'True', 'and', 'as', 'assert', 'async', 'await', 'break', 'class', 'continue', 'def', 'del', 'elif', 'else', 'except', 'finally', 'for', 'from', 'global', 'if', 'import', 'in', 'is', 'lambda', 'nonlocal', 'not', 'or', 'pass', 'raise', 'return', 'try', 'while', 'with', 'yield']\n"
          ]
        }
      ]
    },
    {
      "cell_type": "markdown",
      "source": [
        "4. Write a program that checks if a given word is a Python keyword.\n"
      ],
      "metadata": {
        "id": "R750o3pVCH28"
      }
    },
    {
      "cell_type": "code",
      "source": [
        "import keyword\n",
        "word= input(\"enter a word to check if it is a python keyword: \")\n",
        "if keyword.iskeyword(word):\n",
        "  print(f\"'{word}' is a python keyword. \")\n",
        "else:\n",
        "    print(f\"'{word}' is NOT a python keyword.\")"
      ],
      "metadata": {
        "id": "33hCe8I2CHg1"
      },
      "execution_count": null,
      "outputs": []
    },
    {
      "cell_type": "markdown",
      "source": [
        "5. Create a list and tuple in Python, and demonstrate how attempting to change an element works differently for each.\n"
      ],
      "metadata": {
        "id": "54ffclHHDIMS"
      }
    },
    {
      "cell_type": "code",
      "source": [
        "my_list= [1,2,3,4]\n",
        "print(\"original list:\", my_list)\n",
        "my_list[1]= 20\n",
        "print(\"list after changing second element \", my_list)\n",
        "my_tuple= (1,2,3,4)\n",
        "print(\"original tuple: \", my_tuple)\n",
        "try:\n",
        "  my_tuple[1]= 20\n",
        "except TypeError as e:\n",
        "    print(\"error when trying to modify tuple:\", e)"
      ],
      "metadata": {
        "id": "vjSvIuWdDH9M"
      },
      "execution_count": null,
      "outputs": []
    },
    {
      "cell_type": "markdown",
      "source": [
        "6. Write a function to demonstrate the behavior of mutable and immutable arguments."
      ],
      "metadata": {
        "id": "ADeIhGtjFBCw"
      }
    },
    {
      "cell_type": "code",
      "source": [
        "\n",
        "def modify_arguments(immutable_arg, mutable_arg):\n",
        "    print(\"\\nInside function (before modification):\")\n",
        "    print(\"Immutable argument:\", immutable_arg)\n",
        "    print(\"Mutable argument:\", mutable_arg)\n",
        "\n",
        "    # Attempt to modify immutable argument\n",
        "    immutable_arg += 10  # This creates a new object\n",
        "\n",
        "    # Modify mutable argument\n",
        "    mutable_arg.append(100)\n",
        "\n",
        "    print(\"\\nInside function (after modification):\")\n",
        "    print(\"Immutable argument:\", immutable_arg)\n",
        "    print(\"Mutable argument:\", mutable_arg)\n",
        "\n",
        "# Main program\n",
        "immutable_var = 50\n",
        "mutable_var = [1, 2, 3]\n",
        "\n",
        "print(\"Before function call:\")\n",
        "print(\"Immutable variable:\", immutable_var)\n",
        "print(\"Mutable variable:\", mutable_var)\n",
        "\n",
        "modify_arguments(immutable_var, mutable_var)\n",
        "\n",
        "print(\"\\nAfter function call:\")\n",
        "print(\"Immutable variable:\", immutable_var)  # Not changed\n",
        "print(\"Mutable variable:\", mutable_var)      # Changed"
      ],
      "metadata": {
        "id": "FGH_lDLPFCtD"
      },
      "execution_count": null,
      "outputs": []
    },
    {
      "cell_type": "markdown",
      "source": [
        "7. Write a program that performs basic arithmetic operations on two user-input numbers."
      ],
      "metadata": {
        "id": "muQLsPrHFzvc"
      }
    },
    {
      "cell_type": "code",
      "source": [
        "num1= int(input(\"enter fisrt number\"))\n",
        "num2= int(input(\"enter seconf number\"))\n",
        "print(\"addition :\", num1+num2)\n",
        "print(\"substraction :\", num1-num2)\n",
        "print(\"multipication : \", num1*num2)\n",
        "print(\"divison: \", num1/num2)\n"
      ],
      "metadata": {
        "id": "BOFCQSxjF5B3"
      },
      "execution_count": null,
      "outputs": []
    },
    {
      "cell_type": "markdown",
      "source": [
        "8. Write a program to demonstrate the use of logical operators.\n"
      ],
      "metadata": {
        "id": "cxo5AQpiHQQV"
      }
    },
    {
      "cell_type": "code",
      "source": [
        "\n",
        "age = int(input(\"Enter your age: \"))\n",
        "has_permission = input(\"Do you have parental permission? (yes/no): \").lower() == 'yes'\n",
        "\n",
        "if age >= 18 and has_permission:\n",
        "    print(\"You are allowed to participate.\")\n",
        "else:\n",
        "    print(\"You are not allowed to participate.\")\n",
        "\n",
        "if age >= 18 or has_permission:\n",
        "    print(\"Either you are an adult or you have permission.\")\n",
        "else:\n",
        "    print(\"Neither adult nor permission given.\")\n",
        "\n",
        "if not has_permission:\n",
        "    print(\"You do not have permission.\")\n",
        "else:\n",
        "    print(\"You have permission.\")"
      ],
      "metadata": {
        "id": "TzK-E9yjHTls"
      },
      "execution_count": null,
      "outputs": []
    },
    {
      "cell_type": "markdown",
      "source": [
        "9. Write a Python program to convert user input from string to integer, float, and boolean types."
      ],
      "metadata": {
        "id": "hJkpmnciHxbO"
      }
    },
    {
      "cell_type": "code",
      "source": [
        "\n",
        "user_input = input(\"Enter something: \")\n",
        "\n",
        "# Convert to integer\n",
        "int_value = int(user_input)\n",
        "print(\"Integer value:\", int_value)\n",
        "\n",
        "# Convert to float\n",
        "float_value = float(user_input)\n",
        "print(\"Float value:\", float_value)\n",
        "\n",
        "# Convert to boolen\n",
        "bool_value = bool(user_input)\n",
        "print(\"Boolean value:\", bool_value)"
      ],
      "metadata": {
        "id": "6Tq_U2Y0H053"
      },
      "execution_count": null,
      "outputs": []
    },
    {
      "cell_type": "markdown",
      "source": [
        "10. Write code to demonstrate type casting with list elements."
      ],
      "metadata": {
        "id": "5VT8URQMITSe"
      }
    },
    {
      "cell_type": "code",
      "source": [
        "# Original list with mixed string numbers\n",
        "original_list = ['10', '20', '30', '40.5', '50.7']\n",
        "\n",
        "# Convert all elements to integers\n",
        "int_list = [int(float(x)) for x in original_list]  # Convert float strings to float first, then to int\n",
        "print(\"List converted to integers:\", int_list)\n",
        "\n",
        "# Convert all elements to floats\n",
        "float_list = [float(x) for x in original_list]\n",
        "print(\"List converted to floats:\", float_list)\n",
        "\n",
        "# Convert all elements to strings\n",
        "str_list = [str(x) for x in float_list]\n",
        "print(\"List converted back to strings:\", str_list)\n",
        "\n",
        "# Convert a list of numbers to booleans\n",
        "bool_list = [bool(float(x)) for x in original_list]\n",
        "print(\"List converted to booleans:\", bool_list)"
      ],
      "metadata": {
        "id": "oj7JIUsgIWUy"
      },
      "execution_count": null,
      "outputs": []
    },
    {
      "cell_type": "markdown",
      "source": [
        "11. Write a program that checks if a number is positive, negative, or zero."
      ],
      "metadata": {
        "id": "1RN98LMZIuYc"
      }
    },
    {
      "cell_type": "code",
      "source": [
        "# Take input from the user\n",
        "num = float(input(\"Enter a number: \"))\n",
        "\n",
        "# Check if the number is positive, negative, or zero\n",
        "if num > 0:\n",
        "    print(\"The number is positive.\")\n",
        "elif num < 0:\n",
        "    print(\"The number is negative.\")\n",
        "else:\n",
        "    print(\"The number is zero.\")"
      ],
      "metadata": {
        "id": "HqXgH506IyU8"
      },
      "execution_count": null,
      "outputs": []
    },
    {
      "cell_type": "markdown",
      "source": [
        "12. Write a for loop to print numbers from 1 to 10."
      ],
      "metadata": {
        "id": "7BSRs2UkI-L8"
      }
    },
    {
      "cell_type": "code",
      "source": [
        "\n",
        "for i in range(1, 11):\n",
        "    print(i)"
      ],
      "metadata": {
        "id": "oZ8HzgLnJC7z"
      },
      "execution_count": null,
      "outputs": []
    },
    {
      "cell_type": "markdown",
      "source": [
        "13. Write a Python program to find the sum of all even numbers between 1 and 50."
      ],
      "metadata": {
        "id": "rS4gtwqrJPx2"
      }
    },
    {
      "cell_type": "code",
      "source": [
        "# Initialize sum\n",
        "sum_even = 0\n",
        "\n",
        "# Loop through numbers from 1 to 50\n",
        "for i in range(1, 51):\n",
        "    if i % 2 == 0:  # Check if the number is even\n",
        "        sum_even += i\n",
        "\n",
        "print(\"Sum of all even numbers from 1 to 50 is:\", sum_even)"
      ],
      "metadata": {
        "id": "lixko4KtJT9j"
      },
      "execution_count": null,
      "outputs": []
    },
    {
      "cell_type": "markdown",
      "source": [
        "14. Write a program to reverse a string using a while loop.\n"
      ],
      "metadata": {
        "id": "IjmKUDPCJo9m"
      }
    },
    {
      "cell_type": "code",
      "source": [
        "# Input from user\n",
        "s = input(\"Enter a string: \")\n",
        "\n",
        "i = len(s) - 1\n",
        "rev = \"\"\n",
        "\n",
        "while i >= 0:\n",
        "    rev += s[i]\n",
        "    i -= 1\n",
        "\n",
        "print(\"Reversed string:\", rev)"
      ],
      "metadata": {
        "id": "-PXdMxqPJtaE"
      },
      "execution_count": null,
      "outputs": []
    },
    {
      "cell_type": "markdown",
      "source": [
        "15. Write a Python program to calculate the factorial of a number provided by the user using a while loop."
      ],
      "metadata": {
        "id": "Qc9WHjKmKF0y"
      }
    },
    {
      "cell_type": "code",
      "source": [
        "# Take input from the user\n",
        "num = int(input(\"Enter a number: \"))\n",
        "\n",
        "factorial = 1\n",
        "i = 1\n",
        "\n",
        "# Calculate factorial using while loop\n",
        "while i <= num:\n",
        "    factorial *= i\n",
        "    i += 1\n",
        "\n",
        "print(f\"The factorial of {num} is {factorial}\")"
      ],
      "metadata": {
        "id": "6ni8TdV6KJvr"
      },
      "execution_count": null,
      "outputs": []
    }
  ]
}